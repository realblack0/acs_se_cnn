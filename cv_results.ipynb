{
 "cells": [
  {
   "cell_type": "code",
   "execution_count": 69,
   "metadata": {},
   "outputs": [
    {
     "name": "stdout",
     "output_type": "stream",
     "text": [
      "nohup071_baseline_retry_subject1\n",
      "fold 0: 65.52\n",
      "fold 1: 72.41\n",
      "fold 2: 79.31\n",
      "fold 3: 58.62\n",
      "fold 4: 72.41\n",
      "fold 5: 68.97\n",
      "fold 6: 89.66\n",
      "fold 7: 72.41\n",
      "fold 8: 92.86\n",
      "fold 9: 67.86\n",
      "mean: 74.00 std: 10.04\n"
     ]
    }
   ],
   "source": [
    "import pickle\n",
    "import numpy as np\n",
    "from numpy import mean, std\n",
    "\n",
    "subject_id = 1\n",
    "nohupNN    = \"07\"\n",
    "name       = \"baseline_retry\"\n",
    "dir_format = \"nohup{}{}_{}_subject{}\"\n",
    "print(dir_format.format(nohupNN, subject_id, name, subject_id))\n",
    "\n",
    "cv_hist =[]\n",
    "for i in range(10):\n",
    "    result_dir = dir_format.format(nohupNN, subject_id, name, subject_id)\n",
    "    with open(f\"results/{result_dir}/histories_{i}.pkl\", \"rb\") as f:\n",
    "        hist = pickle.load(f)\n",
    "        cv_hist.append(hist)\n",
    "\n",
    "# fold cross validation 결과 출력\n",
    "cv_acc = []\n",
    "for i, hist in enumerate(cv_hist):\n",
    "    acc = hist[\"val_hist\"][-1]['val_acc']\n",
    "    acc = round(acc, 2)\n",
    "    cv_acc.append(acc)\n",
    "    print(f\"fold {i}: {acc}\")\n",
    "print(f\"mean: {mean(cv_acc):.2f} std: {std(cv_acc):.2f}\")"
   ]
  },
  {
   "cell_type": "code",
   "execution_count": 70,
   "metadata": {
    "scrolled": true
   },
   "outputs": [
    {
     "name": "stdout",
     "output_type": "stream",
     "text": [
      "nohup07*_baseline_retry_subject*\n",
      "Subject 1: 74.00 ± 10.04\n",
      "Subject 2: 57.96 ± 7.32\n"
     ]
    },
    {
     "ename": "FileNotFoundError",
     "evalue": "[Errno 2] No such file or directory: 'results/nohup073_baseline_retry_subject3/histories_4.pkl'",
     "output_type": "error",
     "traceback": [
      "\u001b[0;31m---------------------------------------------------------------------------\u001b[0m",
      "\u001b[0;31mFileNotFoundError\u001b[0m                         Traceback (most recent call last)",
      "\u001b[0;32m<ipython-input-70-25ac31c57f5b>\u001b[0m in \u001b[0;36m<module>\u001b[0;34m\u001b[0m\n\u001b[1;32m      5\u001b[0m     \u001b[0;32mfor\u001b[0m \u001b[0mi\u001b[0m \u001b[0;32min\u001b[0m \u001b[0mrange\u001b[0m\u001b[0;34m(\u001b[0m\u001b[0;36m10\u001b[0m\u001b[0;34m)\u001b[0m\u001b[0;34m:\u001b[0m\u001b[0;34m\u001b[0m\u001b[0;34m\u001b[0m\u001b[0m\n\u001b[1;32m      6\u001b[0m         \u001b[0mresult_dir\u001b[0m \u001b[0;34m=\u001b[0m \u001b[0mdir_format\u001b[0m\u001b[0;34m.\u001b[0m\u001b[0mformat\u001b[0m\u001b[0;34m(\u001b[0m\u001b[0mnohupNN\u001b[0m\u001b[0;34m,\u001b[0m \u001b[0msubject_id\u001b[0m\u001b[0;34m,\u001b[0m \u001b[0mname\u001b[0m\u001b[0;34m,\u001b[0m \u001b[0msubject_id\u001b[0m\u001b[0;34m)\u001b[0m\u001b[0;34m\u001b[0m\u001b[0;34m\u001b[0m\u001b[0m\n\u001b[0;32m----> 7\u001b[0;31m         \u001b[0;32mwith\u001b[0m \u001b[0mopen\u001b[0m\u001b[0;34m(\u001b[0m\u001b[0;34mf\"results/{result_dir}/histories_{i}.pkl\"\u001b[0m\u001b[0;34m,\u001b[0m \u001b[0;34m\"rb\"\u001b[0m\u001b[0;34m)\u001b[0m \u001b[0;32mas\u001b[0m \u001b[0mf\u001b[0m\u001b[0;34m:\u001b[0m\u001b[0;34m\u001b[0m\u001b[0;34m\u001b[0m\u001b[0m\n\u001b[0m\u001b[1;32m      8\u001b[0m             \u001b[0mhist\u001b[0m \u001b[0;34m=\u001b[0m \u001b[0mpickle\u001b[0m\u001b[0;34m.\u001b[0m\u001b[0mload\u001b[0m\u001b[0;34m(\u001b[0m\u001b[0mf\u001b[0m\u001b[0;34m)\u001b[0m\u001b[0;34m\u001b[0m\u001b[0;34m\u001b[0m\u001b[0m\n\u001b[1;32m      9\u001b[0m             \u001b[0mcv_hist\u001b[0m\u001b[0;34m.\u001b[0m\u001b[0mappend\u001b[0m\u001b[0;34m(\u001b[0m\u001b[0mhist\u001b[0m\u001b[0;34m)\u001b[0m\u001b[0;34m\u001b[0m\u001b[0;34m\u001b[0m\u001b[0m\n",
      "\u001b[0;31mFileNotFoundError\u001b[0m: [Errno 2] No such file or directory: 'results/nohup073_baseline_retry_subject3/histories_4.pkl'"
     ]
    }
   ],
   "source": [
    "print(dir_format.format(nohupNN, \"*\", name, \"*\"))\n",
    "sbjs_acc = []\n",
    "for subject_id in range(1,10):\n",
    "    cv_hist =[]\n",
    "    for i in range(10):\n",
    "        result_dir = dir_format.format(nohupNN, subject_id, name, subject_id)\n",
    "        with open(f\"results/{result_dir}/histories_{i}.pkl\", \"rb\") as f:\n",
    "            hist = pickle.load(f)\n",
    "            cv_hist.append(hist)\n",
    "            \n",
    "        # fold cross validation 결과 출력\n",
    "    cv_acc = []\n",
    "    for i, hist in enumerate(cv_hist):\n",
    "        acc = hist[\"val_hist\"][-1]['val_acc']\n",
    "        acc = round(acc, 2)\n",
    "        cv_acc.append(acc)\n",
    "    sbj_acc = round(mean(cv_acc), 2)\n",
    "    sbjs_acc.append(sbj_acc)\n",
    "#     print(f\"Subject {subject_id}: {sbj_acc:.2f}\")\n",
    "    print(f\"Subject {subject_id}: {sbj_acc:.2f} ± {std(cv_acc):.2f}\")\n",
    "print(f\"Mean: {mean(sbjs_acc):.2f}\")\n",
    "    "
   ]
  },
  {
   "cell_type": "code",
   "execution_count": 68,
   "metadata": {},
   "outputs": [
    {
     "name": "stdout",
     "output_type": "stream",
     "text": [
      "mean: 57.83\n"
     ]
    }
   ],
   "source": [
    "temp = \"\"\"val_acc_5\n",
    "subject1 65.58 ± 11.00\n",
    "subject2 51.76 ± 6.51\n",
    "subject3 66.72 ± 14.64\n",
    "subject4 61.80 ± 8.75\n",
    "subject5 47.22 ± 5.79\n",
    "subject6 52.82 ± 7.08\n",
    "subject7 60.36 ± 10.84\n",
    "subject8 53.81 ± 9.86\n",
    "subject9 60.42 ± 11.35\n",
    "\"\"\"\n",
    "\n",
    "temp = temp.splitlines()[1:]\n",
    "temp = [_.split()[1] for _ in temp]\n",
    "temp = [float(_) for _ in temp]\n",
    "print(\"mean: {:.2f}\".format(np.mean(temp)))"
   ]
  },
  {
   "cell_type": "code",
   "execution_count": null,
   "metadata": {},
   "outputs": [],
   "source": []
  }
 ],
 "metadata": {
  "kernelspec": {
   "display_name": "Python 3",
   "language": "python",
   "name": "python3"
  },
  "language_info": {
   "codemirror_mode": {
    "name": "ipython",
    "version": 3
   },
   "file_extension": ".py",
   "mimetype": "text/x-python",
   "name": "python",
   "nbconvert_exporter": "python",
   "pygments_lexer": "ipython3",
   "version": "3.8.5"
  }
 },
 "nbformat": 4,
 "nbformat_minor": 4
}
